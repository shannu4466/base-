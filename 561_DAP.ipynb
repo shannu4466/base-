{
  "nbformat": 4,
  "nbformat_minor": 0,
  "metadata": {
    "colab": {
      "provenance": [],
      "include_colab_link": true
    },
    "kernelspec": {
      "name": "python3",
      "display_name": "Python 3"
    },
    "language_info": {
      "name": "python"
    }
  },
  "cells": [
    {
      "cell_type": "markdown",
      "metadata": {
        "id": "view-in-github",
        "colab_type": "text"
      },
      "source": [
        "<a href=\"https://colab.research.google.com/github/shannu4466/base-/blob/main/561_DAP.ipynb\" target=\"_parent\"><img src=\"https://colab.research.google.com/assets/colab-badge.svg\" alt=\"Open In Colab\"/></a>"
      ]
    },
    {
      "cell_type": "code",
      "execution_count": null,
      "metadata": {
        "id": "sa2mo5sOxoyc"
      },
      "outputs": [],
      "source": [
        "pip install numpy\n"
      ]
    },
    {
      "cell_type": "code",
      "source": [],
      "metadata": {
        "id": "yNvnRPOrbVE4"
      },
      "execution_count": null,
      "outputs": []
    },
    {
      "cell_type": "code",
      "source": [
        "!pip install PyPDF2"
      ],
      "metadata": {
        "id": "-0pd6QdsHOrF"
      },
      "execution_count": null,
      "outputs": []
    },
    {
      "cell_type": "code",
      "source": [
        "#Array creation\n",
        "import numpy as np\n",
        "arr=np.array([1,2,3,4,5])\n",
        "print(arr)\n",
        "zero_arr=np.zeros((3,3),dtype=int)\n",
        "print(zero_arr) #Zero array\n",
        "ones_arr=np.ones((2,2),dtype=int)\n",
        "print(ones_arr) #ones array\n",
        "arrange_arr=np.arange(20)\n",
        "print(arrange_arr) #List of elements starts from 0 upto n-1"
      ],
      "metadata": {
        "id": "uIGwBJaF7cGR",
        "colab": {
          "base_uri": "https://localhost:8080/"
        },
        "outputId": "02a54aef-8c7e-4616-8143-b49437859bb5"
      },
      "execution_count": null,
      "outputs": [
        {
          "output_type": "stream",
          "name": "stdout",
          "text": [
            "[1 2 3 4 5]\n",
            "[[0 0 0]\n",
            " [0 0 0]\n",
            " [0 0 0]]\n",
            "[[1 1]\n",
            " [1 1]]\n",
            "[ 0  1  2  3  4  5  6  7  8  9 10 11 12 13 14 15 16 17 18 19]\n"
          ]
        }
      ]
    },
    {
      "cell_type": "code",
      "source": [
        "#Array manupulation\n",
        "reshape_arr=arr.reshape(5,1)\n",
        "print(reshape_arr) #5 represents rows and 1 represnts columns\n",
        "\n",
        "sliced_arr=arr[1:4]\n",
        "print(sliced_arr)"
      ],
      "metadata": {
        "id": "zgdjlJx3-8aD"
      },
      "execution_count": null,
      "outputs": []
    },
    {
      "cell_type": "code",
      "source": [
        "#Array Sum\n",
        "arr_1=np.array([1,2,3,4,5,6])\n",
        "print(arr_1+3) #Brodcasting the array\n",
        "\n",
        "arr_2=np.array([6,7,8,9,10,11])\n",
        "print(arr_1+arr_2)  #Element wise array sum\n",
        "\n",
        "print(np.vstack(arr_1+arr_2)) #Vertically arranging the array\n",
        "\n",
        "print(np.stack(arr_1+arr_2)) #horizontal arranging\n",
        "\n",
        "a=np.array([[1,2,3,5],[1,2,3,4]])\n",
        "print(a) #Printing 2D array\n",
        "b=np.split(a,2)\n",
        "print(b) #Splitting the array\n",
        "c=np.transpose(a)\n",
        "print(c) #Transpose of a matrix\n"
      ],
      "metadata": {
        "id": "9lNsIG9FARl8"
      },
      "execution_count": null,
      "outputs": []
    },
    {
      "cell_type": "code",
      "source": [
        "#Linear algebra with numpy\n",
        "mat_1=np.array([[1,2],[3,4]])\n",
        "mat_2=np.array([[4,3],[2,1]])\n",
        "dot_product=np.dot(mat_1,mat_2)\n",
        "print(dot_product) #Product of two matrices\n",
        "\n",
        "#Calculating Eigen values and eigen vectors for the dot_product\n",
        "Eigen_val=np.linalg.eig(dot_product)\n",
        "print(Eigen_val)"
      ],
      "metadata": {
        "id": "VSRsV5gnJh81"
      },
      "execution_count": null,
      "outputs": []
    },
    {
      "cell_type": "code",
      "source": [
        "#Sum of 2D matrices using .sum\n",
        "import numpy as np\n",
        "matrix=np.array([[1,2,3],[4,5,6]])\n",
        "matrix_2=np.array([[1,2,3],[4,5,6]])\n",
        "print(np.sum(matrix,axis=1))\n",
        "print(np.sum(matrix,axis=0))\n",
        "\n",
        "#Mean,median,variance,sd\n",
        "mat=np.array([1,2,3,4,5])\n",
        "print(np.mean(mat))\n",
        "print(np.median(mat))\n",
        "print(np.var(mat))\n",
        "print(np.std(mat))"
      ],
      "metadata": {
        "id": "IasQNGHNfUat"
      },
      "execution_count": null,
      "outputs": []
    },
    {
      "cell_type": "code",
      "source": [
        "data=np.loadtxt(\"/content/data analysis using python text file downloaded.txt\",dtype=int)\n",
        "a=np.savetxt(\"/content/date analysis using python text file.txt\",data)\n",
        "print(data)\n",
        "print(a)"
      ],
      "metadata": {
        "id": "U6UGn9c8nJ6J"
      },
      "execution_count": null,
      "outputs": []
    },
    {
      "cell_type": "code",
      "source": [
        "import matplotlib.pyplot as plt"
      ],
      "metadata": {
        "id": "wFtqfaxQuq_E"
      },
      "execution_count": null,
      "outputs": []
    },
    {
      "cell_type": "code",
      "source": [
        "a=np.array([1,2,3,4,5,6,7])\n",
        "b=np.array([1,0,21,23,34,23])\n",
        "plt.plot(a)\n",
        "plt.plot(b)"
      ],
      "metadata": {
        "id": "dzzRPoLvvVSO"
      },
      "execution_count": null,
      "outputs": []
    },
    {
      "cell_type": "code",
      "source": [
        "import pandas as pd"
      ],
      "metadata": {
        "id": "wjjsPOURsPXY"
      },
      "execution_count": null,
      "outputs": []
    },
    {
      "cell_type": "code",
      "source": [
        "a=[\"Shannu\",\"Abhi\",\"Pradeep\",\"Phani\"]\n",
        "r=pd.Series(a,index=[61,4,30,48])\n",
        "print(r)"
      ],
      "metadata": {
        "id": "PwU2pDbOswtN"
      },
      "execution_count": null,
      "outputs": []
    },
    {
      "cell_type": "code",
      "source": [
        "df=pd.read_csv(\"/content/combined_data.csv\")\n",
        "print(df)\n",
        "print(df.loc[1])"
      ],
      "metadata": {
        "id": "E5egasGEubBu"
      },
      "execution_count": null,
      "outputs": []
    },
    {
      "cell_type": "code",
      "source": [
        "df=pd.read_csv(\"/content/data text file.txt\")\n",
        "print(df)\n",
        "print(df.loc[1])\n"
      ],
      "metadata": {
        "id": "P95Q7iuBwk8L"
      },
      "execution_count": null,
      "outputs": []
    },
    {
      "cell_type": "code",
      "source": [
        "df=pd.read_csv(\"/content/DataFile Discrete CSV.data\")\n",
        "mv=df['81'].mean()\n",
        "print(\"AVERAGE\",mv)\n",
        "dfn=df.fillna(mv)\n",
        "print(dfn)\n",
        "dfn=dfn.drop_duplicates()\n",
        "print(dfn)"
      ],
      "metadata": {
        "id": "HxKVc5Gg-LsX"
      },
      "execution_count": null,
      "outputs": []
    },
    {
      "cell_type": "code",
      "source": [
        "df=pd.read_excel(\"/content/Covid Dashboard.xlsx\",sheet_name=0)\n",
        "df.shape\n",
        "print(df.groupby(['Zone'])['Total Cases'].count())"
      ],
      "metadata": {
        "id": "4ak2A7gg2kuc"
      },
      "execution_count": null,
      "outputs": []
    },
    {
      "cell_type": "code",
      "source": [
        "df=pd.read_csv(\"/content/combined_data.csv\")\n",
        "tail=df.tail(10)\n",
        "#print(tail)\n",
        "#print(head)\n",
        "shape=df.shape\n",
        "print(shape)\n",
        "#print(tail)\n",
        "for i in range(83437,83448,-1):\n",
        "  df.drop([i],axis=0,inplace=True)\n",
        "total_data=pd.concat([tail],axis=0)\n",
        "print(total_data)\n",
        "total_data.to_csv(\"Last_10_lines3.csv\")"
      ],
      "metadata": {
        "id": "VpwI7koJBmbR"
      },
      "execution_count": null,
      "outputs": []
    },
    {
      "cell_type": "code",
      "source": [
        "df=pd.read_csv(\"/content/Last_10_lines.csv\")\n",
        "print(df.groupby(['label'])['text'].count())"
      ],
      "metadata": {
        "colab": {
          "base_uri": "https://localhost:8080/"
        },
        "id": "AeZzktxwTUsm",
        "outputId": "7191924c-bf31-4c74-d0b5-e3368164a68d"
      },
      "execution_count": null,
      "outputs": [
        {
          "output_type": "stream",
          "name": "stdout",
          "text": [
            "label\n",
            "0    4\n",
            "1    6\n",
            "Name: text, dtype: int64\n"
          ]
        }
      ]
    },
    {
      "cell_type": "code",
      "source": [
        "from google.colab import drive\n",
        "drive.mount(\"/content/drive/\")"
      ],
      "metadata": {
        "id": "xkLL7lm4Fqmy"
      },
      "execution_count": null,
      "outputs": []
    },
    {
      "cell_type": "code",
      "source": [
        "runs=np.array([100,50,91,78,89,25,34,19,9,10])\n",
        "w=np.array([1,0,2,0,3,7,8,9,7,5])\n",
        "plt.plot(runs,w,color='orange')\n",
        "plt.title(\"Ind Vs Pak Score\")\n",
        "plt.show()"
      ],
      "metadata": {
        "id": "ZBf0lFuYpxad"
      },
      "execution_count": null,
      "outputs": []
    },
    {
      "cell_type": "code",
      "source": [
        "#generate array of 200 values b/w -pi and pi\n",
        "tiger=np.linspace(-2*np.pi,2*np.pi,50)\n",
        "print(tiger)\n",
        "\n",
        "plt.scatter(tiger,np.sin(tiger),color=\"red\")\n",
        "plt.title(\"Sin(x)\")\n",
        "plt.show()"
      ],
      "metadata": {
        "id": "vzCYBLiUq4eE"
      },
      "execution_count": null,
      "outputs": []
    },
    {
      "cell_type": "code",
      "source": [
        "#creating x\n",
        "overs=np.arange(5,50,5)\n",
        "overs_a=np.arange(5,30,5)\n",
        "#creating y\n",
        "runs_i=np.array([35,51,84,131,160,189,220,250,267])\n",
        "runs_a=np.array([15,41,94,110,151])\n",
        "wickets=np.array([12,32,96])\n",
        "#plotting\n",
        "plt.plot(overs,runs_i,color='blue',label='India')\n",
        "plt.plot(overs_a,runs_a,color='green',label='pakistan')\n",
        "#cobining two graphs\n",
        "plt.legend(loc='best')     #.legend is used to represent the label\n",
        "plt.show()\n"
      ],
      "metadata": {
        "id": "Xx9dRdrfvfIS"
      },
      "execution_count": null,
      "outputs": []
    },
    {
      "cell_type": "code",
      "source": [
        "a=[230,560,780,127,128]\n",
        "b=[200,160,270,127,400]\n",
        "yrs=[1,2,3,4]\n",
        "\n",
        "profit_a=[(a[i]-a[i-1]) for i in range(1,len(a))]\n",
        "profit_b=[(b[i]-b[i-1]) for i in range(1,len(b))]\n",
        "plt.subplot(2,1,2)\n",
        "plt.plot(yrs,profit_a,color='hotpink',linewidth='3',label='Company A',marker='*',ms='15',mec='k')\n",
        "plt.subplot(2,1,1)\n",
        "plt.plot(yrs,profit_b,color='black',linestyle='dotted',label='Company B',marker='H')"
      ],
      "metadata": {
        "id": "qZ4GXpu5yMw5"
      },
      "execution_count": null,
      "outputs": []
    },
    {
      "cell_type": "code",
      "source": [
        "a=np.array([25,60,5,10])\n",
        "label=[\"AIML\",\"Python\",\"Pandas\",\"Numpy\"]\n",
        "colors=['green','blue','black','yellow']\n",
        "plt.pie(a,labels=label,colors=colors)\n",
        "plt.show()"
      ],
      "metadata": {
        "id": "bWw5bXJb8umt"
      },
      "execution_count": null,
      "outputs": []
    },
    {
      "cell_type": "code",
      "source": [
        "a=np.array([25,60,5,10])\n",
        "label=[\"AIML\",\"Python\",\"Pandas\",\"Numpy\"]\n",
        "explo=[0.2,0,0,0]\n",
        "plt.pie(a,labels=label,explode=explo,startangle=180,textprops={\"fontsize\":20})\n",
        "plt.legend(loc='lower right')\n",
        "plt.show()"
      ],
      "metadata": {
        "id": "ayvAJ1VU9Tvt"
      },
      "execution_count": null,
      "outputs": []
    },
    {
      "cell_type": "code",
      "source": [
        "import numpy as np\n",
        "import matplotlib.pyplot as plt\n",
        "import pandas as pd\n",
        "df=pd.read_excel(\"/content/drive/MyDrive/DAP_TEAM 7/22A81A0561/temperature analysis.xlsx\")\n",
        "print(df)\n",
        "avgtemp=df['TEMPERATURE'].mean()\n",
        "df=df.fillna(avgtemp)\n",
        "a1=np.array(df['TEMPERATURE'])\n",
        "maxtemp=df['TEMPERATURE'].max()\n",
        "mintemp=df['TEMPERATURE'].min()\n",
        "days=[a1[i] for i in range(1, len(a1)) if a1[i]>avgtemp]\n",
        "date=np.array(df['DAY'])\n",
        "plt.plot(date,a1,color='blue',linewidth='2',label='Temperature',marker='*',ms='10',mec='b')\n",
        "plt.legend(loc='best')\n",
        "print('Mean =',avgtemp)\n",
        "print('Maximum =',maxtemp)\n",
        "print('Minimum =',mintemp)\n",
        "print('Threshold',avgtemp,'is',len(days),'DAY')\n",
        "plt.show()"
      ],
      "metadata": {
        "id": "PLZwog1WbXIQ"
      },
      "execution_count": null,
      "outputs": []
    },
    {
      "cell_type": "code",
      "source": [
        "pip install seaborn"
      ],
      "metadata": {
        "id": "GCSe9X9z4-CE"
      },
      "execution_count": null,
      "outputs": []
    },
    {
      "cell_type": "code",
      "source": [
        "import seaborn as sns\n",
        "import matplotlib.pyplot as plt\n"
      ],
      "metadata": {
        "id": "7-pgrIrb5Fdc"
      },
      "execution_count": null,
      "outputs": []
    },
    {
      "cell_type": "code",
      "source": [
        "tips=sns.load_dataset(\"tips\")\n",
        "sns.scatterplot(x=\"total_bill\",y=\"tip\",data=tips)\n",
        "plt.title(\"scatter plot of total bill vs Tip\")\n",
        "plt.xlabel(\"Total bill ($)\")\n",
        "plt.ylabel(\"Tip ($)\")\n",
        "plt.show()\n",
        "tips.head(10)"
      ],
      "metadata": {
        "id": "dKt5JG3l7HRo"
      },
      "execution_count": null,
      "outputs": []
    },
    {
      "cell_type": "code",
      "source": [
        "import seaborn as sns\n",
        "anscombe = sns.load_dataset(\"anscombe\")\n",
        "sns.scatterplot(x=\"x\",y=\"y\",data=anscombe)\n",
        "plt.show()"
      ],
      "metadata": {
        "id": "9IfPjGuD-Iju"
      },
      "execution_count": null,
      "outputs": []
    },
    {
      "cell_type": "code",
      "source": [
        "tips=sns.load_dataset(\"tips\")\n",
        "sns.violinplot(x=\"day\",y=\"total_bill\",data=tips)\n",
        "plt.title(\"Distribution of total bill by day\")\n",
        "plt.xlabel(\"Day of the week\")\n",
        "plt.ylabel(\"Total bill ($)\")\n",
        "plt.show()"
      ],
      "metadata": {
        "id": "P_5g7pkEANRg"
      },
      "execution_count": null,
      "outputs": []
    },
    {
      "cell_type": "code",
      "source": [
        "import seaborn as sns\n",
        "iris = sns.load_dataset(\"iris\")\n",
        "correlation_matrix=iris.corr()\n",
        "sns.heatmap(correlation_matrix,annot=True,cmap=\"coolwarm\")\n",
        "plt.title(\"Correlation Heatmap of iris Dataset\")\n",
        "plt.show()\n",
        "print(iris)"
      ],
      "metadata": {
        "id": "dYJBT6hOBNyf"
      },
      "execution_count": null,
      "outputs": []
    },
    {
      "cell_type": "code",
      "source": [
        "import seaborn as sns\n",
        "import matplotlib.pyplot as plt\n",
        "\n",
        "# Load the titanic dataset\n",
        "titanic = sns.load_dataset(\"titanic\")\n",
        "\n",
        "# Create a pairplot\n",
        "sns.pairplot(titanic)\n",
        "plt.suptitle(\"Pairplot of Titanic Dataset\", y=1.02)\n",
        "plt.show()\n",
        "\n",
        "# Print the titanic dataset\n",
        "print(titanic)\n"
      ],
      "metadata": {
        "id": "PDT3RBpSDE5e"
      },
      "execution_count": null,
      "outputs": []
    }
  ]
}